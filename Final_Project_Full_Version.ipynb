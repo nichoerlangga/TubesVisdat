{
  "nbformat": 4,
  "nbformat_minor": 0,
  "metadata": {
    "colab": {
      "provenance": []
    },
    "kernelspec": {
      "name": "python3",
      "display_name": "Python 3"
    },
    "language_info": {
      "name": "python"
    }
  },
  "cells": [
    {
      "cell_type": "code",
      "execution_count": null,
      "metadata": {
        "colab": {
          "base_uri": "https://localhost:8080/"
        },
        "id": "hrGkRHkGA17o",
        "outputId": "d0c7a828-72e2-4247-bad1-17419d4227ed"
      },
      "outputs": [
        {
          "output_type": "stream",
          "name": "stdout",
          "text": [
            "Collecting streamlit\n",
            "  Downloading streamlit-1.35.0-py2.py3-none-any.whl (8.6 MB)\n",
            "\u001b[2K     \u001b[90m━━━━━━━━━━━━━━━━━━━━━━━━━━━━━━━━━━━━━━━━\u001b[0m \u001b[32m8.6/8.6 MB\u001b[0m \u001b[31m26.4 MB/s\u001b[0m eta \u001b[36m0:00:00\u001b[0m\n",
            "\u001b[?25hRequirement already satisfied: altair<6,>=4.0 in /usr/local/lib/python3.10/dist-packages (from streamlit) (4.2.2)\n",
            "Requirement already satisfied: blinker<2,>=1.0.0 in /usr/lib/python3/dist-packages (from streamlit) (1.4)\n",
            "Requirement already satisfied: cachetools<6,>=4.0 in /usr/local/lib/python3.10/dist-packages (from streamlit) (5.3.3)\n",
            "Requirement already satisfied: click<9,>=7.0 in /usr/local/lib/python3.10/dist-packages (from streamlit) (8.1.7)\n",
            "Requirement already satisfied: numpy<2,>=1.19.3 in /usr/local/lib/python3.10/dist-packages (from streamlit) (1.25.2)\n",
            "Requirement already satisfied: packaging<25,>=16.8 in /usr/local/lib/python3.10/dist-packages (from streamlit) (24.0)\n",
            "Requirement already satisfied: pandas<3,>=1.3.0 in /usr/local/lib/python3.10/dist-packages (from streamlit) (2.0.3)\n",
            "Requirement already satisfied: pillow<11,>=7.1.0 in /usr/local/lib/python3.10/dist-packages (from streamlit) (9.4.0)\n",
            "Requirement already satisfied: protobuf<5,>=3.20 in /usr/local/lib/python3.10/dist-packages (from streamlit) (3.20.3)\n",
            "Requirement already satisfied: pyarrow>=7.0 in /usr/local/lib/python3.10/dist-packages (from streamlit) (14.0.2)\n",
            "Requirement already satisfied: requests<3,>=2.27 in /usr/local/lib/python3.10/dist-packages (from streamlit) (2.31.0)\n",
            "Requirement already satisfied: rich<14,>=10.14.0 in /usr/local/lib/python3.10/dist-packages (from streamlit) (13.7.1)\n",
            "Requirement already satisfied: tenacity<9,>=8.1.0 in /usr/local/lib/python3.10/dist-packages (from streamlit) (8.3.0)\n",
            "Requirement already satisfied: toml<2,>=0.10.1 in /usr/local/lib/python3.10/dist-packages (from streamlit) (0.10.2)\n",
            "Requirement already satisfied: typing-extensions<5,>=4.3.0 in /usr/local/lib/python3.10/dist-packages (from streamlit) (4.12.1)\n",
            "Collecting gitpython!=3.1.19,<4,>=3.0.7 (from streamlit)\n",
            "  Downloading GitPython-3.1.43-py3-none-any.whl (207 kB)\n",
            "\u001b[2K     \u001b[90m━━━━━━━━━━━━━━━━━━━━━━━━━━━━━━━━━━━━━━━━\u001b[0m \u001b[32m207.3/207.3 kB\u001b[0m \u001b[31m13.6 MB/s\u001b[0m eta \u001b[36m0:00:00\u001b[0m\n",
            "\u001b[?25hCollecting pydeck<1,>=0.8.0b4 (from streamlit)\n",
            "  Downloading pydeck-0.9.1-py2.py3-none-any.whl (6.9 MB)\n",
            "\u001b[2K     \u001b[90m━━━━━━━━━━━━━━━━━━━━━━━━━━━━━━━━━━━━━━━━\u001b[0m \u001b[32m6.9/6.9 MB\u001b[0m \u001b[31m47.4 MB/s\u001b[0m eta \u001b[36m0:00:00\u001b[0m\n",
            "\u001b[?25hRequirement already satisfied: tornado<7,>=6.0.3 in /usr/local/lib/python3.10/dist-packages (from streamlit) (6.3.3)\n",
            "Collecting watchdog>=2.1.5 (from streamlit)\n",
            "  Downloading watchdog-4.0.1-py3-none-manylinux2014_x86_64.whl (83 kB)\n",
            "\u001b[2K     \u001b[90m━━━━━━━━━━━━━━━━━━━━━━━━━━━━━━━━━━━━━━━━\u001b[0m \u001b[32m83.0/83.0 kB\u001b[0m \u001b[31m6.8 MB/s\u001b[0m eta \u001b[36m0:00:00\u001b[0m\n",
            "\u001b[?25hRequirement already satisfied: entrypoints in /usr/local/lib/python3.10/dist-packages (from altair<6,>=4.0->streamlit) (0.4)\n",
            "Requirement already satisfied: jinja2 in /usr/local/lib/python3.10/dist-packages (from altair<6,>=4.0->streamlit) (3.1.4)\n",
            "Requirement already satisfied: jsonschema>=3.0 in /usr/local/lib/python3.10/dist-packages (from altair<6,>=4.0->streamlit) (4.19.2)\n",
            "Requirement already satisfied: toolz in /usr/local/lib/python3.10/dist-packages (from altair<6,>=4.0->streamlit) (0.12.1)\n",
            "Collecting gitdb<5,>=4.0.1 (from gitpython!=3.1.19,<4,>=3.0.7->streamlit)\n",
            "  Downloading gitdb-4.0.11-py3-none-any.whl (62 kB)\n",
            "\u001b[2K     \u001b[90m━━━━━━━━━━━━━━━━━━━━━━━━━━━━━━━━━━━━━━━━\u001b[0m \u001b[32m62.7/62.7 kB\u001b[0m \u001b[31m5.7 MB/s\u001b[0m eta \u001b[36m0:00:00\u001b[0m\n",
            "\u001b[?25hRequirement already satisfied: python-dateutil>=2.8.2 in /usr/local/lib/python3.10/dist-packages (from pandas<3,>=1.3.0->streamlit) (2.8.2)\n",
            "Requirement already satisfied: pytz>=2020.1 in /usr/local/lib/python3.10/dist-packages (from pandas<3,>=1.3.0->streamlit) (2023.4)\n",
            "Requirement already satisfied: tzdata>=2022.1 in /usr/local/lib/python3.10/dist-packages (from pandas<3,>=1.3.0->streamlit) (2024.1)\n",
            "Requirement already satisfied: charset-normalizer<4,>=2 in /usr/local/lib/python3.10/dist-packages (from requests<3,>=2.27->streamlit) (3.3.2)\n",
            "Requirement already satisfied: idna<4,>=2.5 in /usr/local/lib/python3.10/dist-packages (from requests<3,>=2.27->streamlit) (3.7)\n",
            "Requirement already satisfied: urllib3<3,>=1.21.1 in /usr/local/lib/python3.10/dist-packages (from requests<3,>=2.27->streamlit) (2.0.7)\n",
            "Requirement already satisfied: certifi>=2017.4.17 in /usr/local/lib/python3.10/dist-packages (from requests<3,>=2.27->streamlit) (2024.6.2)\n",
            "Requirement already satisfied: markdown-it-py>=2.2.0 in /usr/local/lib/python3.10/dist-packages (from rich<14,>=10.14.0->streamlit) (3.0.0)\n",
            "Requirement already satisfied: pygments<3.0.0,>=2.13.0 in /usr/local/lib/python3.10/dist-packages (from rich<14,>=10.14.0->streamlit) (2.16.1)\n",
            "Collecting smmap<6,>=3.0.1 (from gitdb<5,>=4.0.1->gitpython!=3.1.19,<4,>=3.0.7->streamlit)\n",
            "  Downloading smmap-5.0.1-py3-none-any.whl (24 kB)\n",
            "Requirement already satisfied: MarkupSafe>=2.0 in /usr/local/lib/python3.10/dist-packages (from jinja2->altair<6,>=4.0->streamlit) (2.1.5)\n",
            "Requirement already satisfied: attrs>=22.2.0 in /usr/local/lib/python3.10/dist-packages (from jsonschema>=3.0->altair<6,>=4.0->streamlit) (23.2.0)\n",
            "Requirement already satisfied: jsonschema-specifications>=2023.03.6 in /usr/local/lib/python3.10/dist-packages (from jsonschema>=3.0->altair<6,>=4.0->streamlit) (2023.12.1)\n",
            "Requirement already satisfied: referencing>=0.28.4 in /usr/local/lib/python3.10/dist-packages (from jsonschema>=3.0->altair<6,>=4.0->streamlit) (0.35.1)\n",
            "Requirement already satisfied: rpds-py>=0.7.1 in /usr/local/lib/python3.10/dist-packages (from jsonschema>=3.0->altair<6,>=4.0->streamlit) (0.18.1)\n",
            "Requirement already satisfied: mdurl~=0.1 in /usr/local/lib/python3.10/dist-packages (from markdown-it-py>=2.2.0->rich<14,>=10.14.0->streamlit) (0.1.2)\n",
            "Requirement already satisfied: six>=1.5 in /usr/local/lib/python3.10/dist-packages (from python-dateutil>=2.8.2->pandas<3,>=1.3.0->streamlit) (1.16.0)\n",
            "Installing collected packages: watchdog, smmap, pydeck, gitdb, gitpython, streamlit\n",
            "Successfully installed gitdb-4.0.11 gitpython-3.1.43 pydeck-0.9.1 smmap-5.0.1 streamlit-1.35.0 watchdog-4.0.1\n",
            "Collecting pyngrok\n",
            "  Downloading pyngrok-7.1.6-py3-none-any.whl (22 kB)\n",
            "Requirement already satisfied: PyYAML>=5.1 in /usr/local/lib/python3.10/dist-packages (from pyngrok) (6.0.1)\n",
            "Installing collected packages: pyngrok\n",
            "Successfully installed pyngrok-7.1.6\n"
          ]
        }
      ],
      "source": [
        "!pip install streamlit\n",
        "!pip install pyngrok"
      ]
    },
    {
      "cell_type": "code",
      "source": [
        "%%writefile main.py\n",
        "import streamlit as st\n",
        "import pandas as pd\n",
        "from unitSold import UnitSold\n",
        "from topSelling import TopSelling\n",
        "from mostCategory import MostCategory\n",
        "from revenue import Revenue\n",
        "from payment import Payment\n",
        "\n",
        "# Fungsi untuk masing-masing halaman\n",
        "def home_page():\n",
        "    file_path = 'https://github.com/AlfiessaWidya/Dataset_Visual_Data/blob/master/bg.png?raw=true'\n",
        "    st.image(file_path)\n",
        "    st.title(\"Online Sales Data Analysis\")\n",
        "    st.write(\"\"\"\n",
        "        Data ini berisi informasi penjualan online yang mencakup kategori produk,\n",
        "        kuantitas, harga, wilayah, dan metode pembayaran. Visualisasi yang digunakan\n",
        "        mencakup tren total pendapatan dari waktu ke waktu, kategori produk terbanyak\n",
        "        terjual, 10 produk terlaris, dan distribusi produk yang terjual di setiap wilayah.\n",
        "        Data ini penting karena memungkinkan bisnis untuk memahami performa penjualan mereka,\n",
        "        mengidentifikasi produk yang paling menguntungkan, mengevaluasi preferensi pelanggan di\n",
        "        berbagai wilayah, dan mengoptimalkan strategi pemasaran serta pengelolaan stok. Dengan\n",
        "        demikian, perusahaan dapat membuat keputusan yang lebih informasi-dasar untuk meningkatkan\n",
        "        penjualan dan efisiensi operasional.\n",
        "    \"\"\")\n",
        "\n",
        "    # Membaca data dari file CSV\n",
        "    data_url = \"https://drive.google.com/uc?id=\" + '1vhsQTLZmrJG-ADOx3T8NYL4JBDJQY5Qg'  # Ganti dengan path ke file data Anda\n",
        "    data = pd.read_csv(data_url)\n",
        "\n",
        "    # Menampilkan data raw\n",
        "    st.subheader(\"Raw Data\")\n",
        "    st.dataframe(data)  # Atau gunakan st.table(data) untuk tampilan tabel statis\n",
        "\n",
        "    # Menampilkan daftar nama\n",
        "    st.subheader(\"Daftar Nama Kelompok\")\n",
        "    nama_list = [\"1301213146 | Brithany Zhafira Nurranty\", \"1301210499 | Elvira Wulandari\", \"1301213412 | Karina Diva Aulia Igani\", \"1301213275\t| Alfiessa Widya Wirawan\", \"1301210511 | Muhammad Rivaditya Azzaka\"]\n",
        "    for nama in nama_list:\n",
        "        st.markdown(nama)\n",
        "\n",
        "def unit_solds_page():\n",
        "    st.title(\"Units Sold\")\n",
        "    UnitSold.show()\n",
        "\n",
        "def top_selling_page():\n",
        "    st.title(\"Top 10 Selling Products\")\n",
        "    st.write(\"Showing top 10 selling products\")\n",
        "    TopSelling.show()\n",
        "\n",
        "def most_category_page():\n",
        "    st.title(\"The Most Sold Product Category\")\n",
        "    MostCategory.show()\n",
        "\n",
        "def revenue_page():\n",
        "    Revenue.show()\n",
        "\n",
        "def payment_page():\n",
        "    st.title(\"Most Popular Payment Method\")\n",
        "    Payment.show()\n",
        "\n",
        "# Membuat sidebar\n",
        "st.sidebar.title(\"Menu\")\n",
        "select = st.sidebar.radio(\"Select Category\", (\n",
        "  \"Home\",\n",
        "  \"Units Sold\",\n",
        "  \"Top Selling\",\n",
        "  \"Most Category\",\n",
        "  \"Revenue\",\n",
        "  \"Payment\"\n",
        "  ))\n",
        "\n",
        "# Menampilkan halaman berdasarkan pilihan\n",
        "if select == \"Home\":\n",
        "    home_page()\n",
        "elif select == \"Units Sold\":\n",
        "    unit_solds_page()\n",
        "elif select == \"Top Selling\":\n",
        "    top_selling_page()\n",
        "elif select == \"Most Category\":\n",
        "  most_category_page()\n",
        "elif select == \"Revenue\":\n",
        "  revenue_page()\n",
        "elif select == \"Payment\":\n",
        "  payment_page()"
      ],
      "metadata": {
        "colab": {
          "base_uri": "https://localhost:8080/"
        },
        "id": "kNwn89KPBD3R",
        "outputId": "f8b98527-0c85-4afc-ade9-d9fbdae6c333"
      },
      "execution_count": 29,
      "outputs": [
        {
          "output_type": "stream",
          "name": "stdout",
          "text": [
            "Overwriting main.py\n"
          ]
        }
      ]
    },
    {
      "cell_type": "code",
      "source": [
        "%%writefile unitSold.py\n",
        "import warnings\n",
        "import numpy as np\n",
        "import pandas as pd\n",
        "import streamlit as st\n",
        "import altair as alt\n",
        "from urllib.error import URLError\n",
        "\n",
        "class UnitSold:\n",
        "    @staticmethod\n",
        "    def show():\n",
        "      st.write(\"Showing the sold units in each region\")\n",
        "\n",
        "      def get_UN_data():\n",
        "          data_url = 'https://raw.githubusercontent.com/AlfiessaWidya/Dataset_Visual_Data/master/sales_data.csv'\n",
        "          df = pd.read_csv(data_url)\n",
        "          return df\n",
        "\n",
        "      try:\n",
        "          df = get_UN_data()\n",
        "\n",
        "          # Drop rows where 'Region' is NaN\n",
        "          df = df.dropna(subset=['Region'])\n",
        "\n",
        "          # Set 'Region' as index\n",
        "          df = df.set_index(\"Region\")\n",
        "\n",
        "          # Get unique regions for multiselect options\n",
        "          unique_regions = df.index.unique().tolist()\n",
        "\n",
        "          # Provide a default selection if 'Asia' and 'Europe' exist in the data\n",
        "          default_selection = unique_regions\n",
        "\n",
        "          countries = st.multiselect(\n",
        "              \"Choose countries\", unique_regions, default_selection\n",
        "          )\n",
        "          if not countries:\n",
        "              st.error(\"Please select at least one country.\")\n",
        "          else:\n",
        "              data = df.loc[countries]\n",
        "\n",
        "              # Convert relevant columns to numeric, coercing errors to NaN\n",
        "              data['Units Sold'] = pd.to_numeric(data['Units Sold'], errors='coerce')\n",
        "\n",
        "              # Fill NaN values with 0 in Units Sold column (or handle them as appropriate)\n",
        "              data['Units Sold'] = data['Units Sold'].fillna(0)\n",
        "\n",
        "              st.write(\"### Units Sold (in millions)\", data.sort_index())\n",
        "\n",
        "              # Prepare data for Altair visualization\n",
        "              melted_data = pd.melt(\n",
        "                  data.reset_index(),\n",
        "                  id_vars=[\"Region\", \"Date\", \"Product Category\", \"Product Name\", \"Payment Method\"],\n",
        "                  value_vars=[\"Units Sold\"],\n",
        "                  var_name=\"Metric\",\n",
        "                  value_name=\"Value\"\n",
        "              )\n",
        "\n",
        "              chart = (\n",
        "                  alt.Chart(melted_data)\n",
        "                  .mark_area(opacity=0.3)\n",
        "                  .encode(\n",
        "                      x=\"Product Name:N\",\n",
        "                      y=alt.Y(\"Value:Q\", stack=None),\n",
        "                      color=\"Region:N\",\n",
        "                      tooltip=[\"Date\", \"Product Category\", \"Product Name\", \"Value\", \"Payment Method\"]\n",
        "                  )\n",
        "              )\n",
        "              st.altair_chart(chart, use_container_width=True)\n",
        "\n",
        "\n",
        "      except URLError as e:\n",
        "          st.error(\n",
        "              \"\"\" *This demo requires internet access.* Connection error: %s \"\"\"\n",
        "              % e.reason )\n",
        "\n",
        "\n",
        "      st.title(\"Jenis Visualisasi: Area Chart\")\n",
        "      st.write(\"\"\"Bagan ini menunjukkan unit terjual untuk berbagai produk di berbagai wilayah. Sebagai bagan area, ini memperlihatkan total penjualan per produk (area di bawah garis),\n",
        "      bukan penjualan individual per wilayah. Sumbu X menunjukkan nama produk, sumbu Y menunjukkan jumlah total unit terjual (nilai bertumpuk),\n",
        "      dan garis berwarna menunjukkan wilayah berbeda (misalnya Asia, Eropa, Amerika Utara).\n",
        "      Area di bawah setiap garis menunjukkan total unit terjual di wilayah tersebut untuk setiap produk..\"\"\")"
      ],
      "metadata": {
        "colab": {
          "base_uri": "https://localhost:8080/"
        },
        "id": "pxxuyLQErrab",
        "outputId": "31bb9a1d-b07e-4065-fd9c-fbde0f2bfbc8"
      },
      "execution_count": 19,
      "outputs": [
        {
          "output_type": "stream",
          "name": "stdout",
          "text": [
            "Overwriting unitSold.py\n"
          ]
        }
      ]
    },
    {
      "cell_type": "code",
      "source": [
        "%%writefile topSelling.py\n",
        "import pandas as pd\n",
        "import streamlit as st\n",
        "import plotly.express as px\n",
        "# Top 10 Selling Products\n",
        "# bentuk scatter\n",
        "# Fungsi untuk memuat data dari Google Drive\n",
        "\n",
        "class TopSelling:\n",
        "    @staticmethod\n",
        "    def show():\n",
        "\n",
        "      @st.cache_data\n",
        "      def get_UN_data():\n",
        "          data = \"https://drive.google.com/uc?id=\" + '1vhsQTLZmrJG-ADOx3T8NYL4JBDJQY5Qg'\n",
        "          df = pd.read_csv(data)\n",
        "          df['Date'] = pd.to_datetime(df['Date'])\n",
        "          return df\n",
        "\n",
        "      # Memuat data\n",
        "      df = get_UN_data()\n",
        "\n",
        "      # Mengelompokkan data berdasarkan nama produk dan menjumlahkan total pendapatan\n",
        "      top_selling_products = df.groupby('Product Name')['Total Revenue'].sum().sort_values(ascending=False).head(10).reset_index()\n",
        "\n",
        "      # Membuat grafik scatter plot dengan Plotly\n",
        "      scatter_plot = px.scatter(top_selling_products, x='Product Name', y='Total Revenue',\n",
        "                                size='Total Revenue', color='Product Name',\n",
        "                                hover_name='Product Name', log_y=True, size_max=60)\n",
        "\n",
        "      scatter_plot.update_layout(\n",
        "          title='',\n",
        "          xaxis_title='Product Name',\n",
        "          yaxis_title='Total Revenue',\n",
        "          xaxis=dict(tickangle=-45),\n",
        "          title_x=0.5,\n",
        "          height=600,\n",
        "          width=800\n",
        "      )\n",
        "\n",
        "      # Menambahkan fitur zoom dan panning\n",
        "      scatter_plot.update_layout(\n",
        "          dragmode='zoom',\n",
        "          hovermode='closest'\n",
        "      )\n",
        "\n",
        "      # Menampilkan grafik di Streamlit\n",
        "      st.plotly_chart(scatter_plot, use_container_width=True)\n",
        "\n",
        "      st.title(\"Jenis Visualisasi: Scatter Plot\")\n",
        "      st.write(\"\"\"Digunakan untuk memvisualisasikan hubungan antara dua variabel numerik.\n",
        "      Setiap titik data direpresentasikan oleh titik pada grafik.\n",
        "      Posisi titik pada sumbu X dan Y menunjukkan nilai kedua variabel untuk titik data tersebut.\"\"\")"
      ],
      "metadata": {
        "colab": {
          "base_uri": "https://localhost:8080/"
        },
        "id": "TJln5axIsAuI",
        "outputId": "48b3972d-8c39-4864-d7c4-4c28b47e13e5"
      },
      "execution_count": 20,
      "outputs": [
        {
          "output_type": "stream",
          "name": "stdout",
          "text": [
            "Overwriting topSelling.py\n"
          ]
        }
      ]
    },
    {
      "cell_type": "code",
      "source": [
        "%%writefile revenue.py\n",
        "import pandas as pd\n",
        "import streamlit as st\n",
        "import altair as alt\n",
        "import calendar\n",
        "# tren total  pendapatan dari waktu  ke waktu\n",
        "# Fungsi untuk memuat data dari Google Drive\n",
        "\n",
        "class Revenue:\n",
        "    @staticmethod\n",
        "    def show():\n",
        "\n",
        "      @st.cache_data\n",
        "      def get_UN_data():\n",
        "          data = \"https://drive.google.com/uc?id=\" + '1vhsQTLZmrJG-ADOx3T8NYL4JBDJQY5Qg'\n",
        "          df = pd.read_csv(data)\n",
        "          df['Date'] = pd.to_datetime(df['Date'])\n",
        "          return df\n",
        "\n",
        "      # Memuat data\n",
        "      df = get_UN_data()\n",
        "\n",
        "      # Ekstraksi nama bulan dan tahun dari kolom Date\n",
        "      df['Month'] = df['Date'].dt.month_name()\n",
        "      df['Year'] = df['Date'].dt.year\n",
        "\n",
        "      # Sidebar untuk memilih tahun\n",
        "      selected_year = 2024\n",
        "\n",
        "      # Filter data berdasarkan tahun yang dipilih\n",
        "      filtered_df = df[df['Year'] == selected_year]\n",
        "\n",
        "      # Menampilkan judul\n",
        "      st.title(f'Revenue Over Time for {selected_year}')\n",
        "\n",
        "      # Membuat grafik garis dengan Altair\n",
        "      line_chart = alt.Chart(filtered_df).mark_line(point=True).encode(\n",
        "          x=alt.X('Month', sort=list(calendar.month_name)[1:]),  # Memastikan bulan diurutkan dengan benar\n",
        "          y='Total Revenue',\n",
        "          tooltip=['Month', 'Total Revenue']\n",
        "      ).properties(\n",
        "          title='Showing revenue over time',\n",
        "          width=800,\n",
        "          height=400\n",
        "      ).configure_axis(\n",
        "          labelAngle=45\n",
        "      )\n",
        "\n",
        "      # Menampilkan grafik di Streamlit\n",
        "      st.altair_chart(line_chart, use_container_width=True)\n",
        "\n",
        "\n",
        "      st.title(\"Jenis Visualisasi: Line Chart\")\n",
        "      st.write(\"\"\"Grafik garis digunakan untuk memvisualisasikan tren data dari waktu ke waktu.\n",
        "      Setiap titik data direpresentasikan oleh titik pada grafik, dan titik-titik tersebut dihubungkan dengan garis.\n",
        "      Posisi titik pada sumbu X menunjukkan waktu, dan posisi titik pada sumbu Y menunjukkan nilai data.\n",
        "      Dalam kasus ini, sumbu X menunjukkan bulan, dan sumbu Y menunjukkan total pendapatan.\"\"\")"
      ],
      "metadata": {
        "colab": {
          "base_uri": "https://localhost:8080/"
        },
        "id": "csJp3ej0tVc1",
        "outputId": "a883e1f0-de11-42d4-ef53-7e8404b5451d"
      },
      "execution_count": 21,
      "outputs": [
        {
          "output_type": "stream",
          "name": "stdout",
          "text": [
            "Overwriting revenue.py\n"
          ]
        }
      ]
    },
    {
      "cell_type": "code",
      "source": [
        "%%writefile payment.py\n",
        "import pandas as pd\n",
        "import streamlit as st\n",
        "import plotly.express as px\n",
        "\n",
        "class Payment:\n",
        "    @staticmethod\n",
        "    def show():\n",
        "\n",
        "        @st.cache_data\n",
        "        def get_data():\n",
        "            # URL to the Google Drive file\n",
        "            data = \"https://drive.google.com/uc?id=\" + '1vhsQTLZmrJG-ADOx3T8NYL4JBDJQY5Qg'\n",
        "            # Reading the CSV data\n",
        "            df = pd.read_csv(data)\n",
        "            return df\n",
        "\n",
        "        # Loading the data\n",
        "        df = get_data()\n",
        "\n",
        "        # Counting the number of transactions per Payment Method\n",
        "        payment_methods = df['Payment Method'].value_counts().reset_index(name='Count').rename(columns={'index': 'Payment Method'})\n",
        "\n",
        "        # Printing the dataframe (for debugging purposes, can be removed)\n",
        "        print(payment_methods)\n",
        "\n",
        "        # Creating a bar chart with Plotly\n",
        "        fig = px.bar(payment_methods, x='Payment Method', y='Count',\n",
        "                     title='Showing most popular payment methods used by customers',\n",
        "                     color='Payment Method',\n",
        "                     labels={'Count': 'Number of Transactions'})\n",
        "\n",
        "        # Displaying the chart in Streamlit\n",
        "        st.plotly_chart(fig, use_container_width=True)\n",
        "\n",
        "        st.title(\"Jenis Visualisasi: Bar Chart\")\n",
        "        st.write(\"\"\"Menunjukkan metode pembayaran yang paling populer digunakan oleh pelanggan. Sumbu X menunjukkan berbagai metode pembayaran (Kartu Kredit, Kartu Debit, PayPal).\n",
        "        Sumbu Y menunjukkan jumlah transaksi untuk setiap metode pembayaran. Setiap metode pembayaran di sumbu X memiliki batang yang sesuai di sumbu Y.\n",
        "        Panjang batang menunjukkan jumlah transaksi untuk metode pembayaran tersebut.\"\"\")"
      ],
      "metadata": {
        "colab": {
          "base_uri": "https://localhost:8080/"
        },
        "id": "MtP89WRatfD6",
        "outputId": "c300218a-1f45-4732-db34-b0575eec3fc4"
      },
      "execution_count": 25,
      "outputs": [
        {
          "output_type": "stream",
          "name": "stdout",
          "text": [
            "Overwriting payment.py\n"
          ]
        }
      ]
    },
    {
      "cell_type": "code",
      "source": [
        "%%writefile mostCategory.py\n",
        "import pandas as pd\n",
        "import streamlit as st\n",
        "import plotly.express as px\n",
        "# pie\n",
        "# Kategori produk terbanyak\n",
        "# Fungsi untuk memuat data dari Google Drive\n",
        "\n",
        "class MostCategory:\n",
        "    @staticmethod\n",
        "    def show():\n",
        "\n",
        "      @st.cache_data\n",
        "      def get_UN_data():\n",
        "          data = \"https://drive.google.com/uc?id=\" + '1vhsQTLZmrJG-ADOx3T8NYL4JBDJQY5Qg'\n",
        "          df = pd.read_csv(data)\n",
        "          df['Date'] = pd.to_datetime(df['Date'])\n",
        "          return df\n",
        "\n",
        "      # Memuat data\n",
        "      df = get_UN_data()\n",
        "\n",
        "      # Mengelompokkan data berdasarkan kategori produk dan menjumlahkan total unit yang terjual\n",
        "      p_category = df.groupby('Product Category')['Units Sold'].sum().reset_index()\n",
        "\n",
        "      # Membuat grafik pie dengan plotly\n",
        "      fig = px.pie(p_category, names='Product Category', values='Units Sold',\n",
        "                   title='Showing the most sold product by category',\n",
        "                   color_discrete_sequence=[\"olive\", \"orange\", \"pink\", \"salmon\", \"yellow\", \"gray\"],\n",
        "                   hole=0.3)\n",
        "\n",
        "      # Menambahkan keterangan presentase\n",
        "      fig.update_traces(textinfo='percent+label')\n",
        "\n",
        "      # Menampilkan grafik di Streamlit\n",
        "      st.plotly_chart(fig, use_container_width=True)\n",
        "\n",
        "      st.title(\"Jenis Visualisasi: Pie Chart\")\n",
        "      st.write(\"\"\"Menunjukkan proporsi atau persentase data dalam suatu kategori.\n",
        "      Dalam hal ini, grafik pie menunjukkan proporsi penjualan produk berdasarkan kategori produk.\"\"\")"
      ],
      "metadata": {
        "colab": {
          "base_uri": "https://localhost:8080/"
        },
        "id": "tEOwRQmYtlZ2",
        "outputId": "e4ffc755-10aa-424b-ff9a-f4f639776ec8"
      },
      "execution_count": 23,
      "outputs": [
        {
          "output_type": "stream",
          "name": "stdout",
          "text": [
            "Overwriting mostCategory.py\n"
          ]
        }
      ]
    },
    {
      "cell_type": "code",
      "source": [
        "!npm install localtunnel"
      ],
      "metadata": {
        "colab": {
          "base_uri": "https://localhost:8080/"
        },
        "id": "e97cxPXAu4W0",
        "outputId": "f0ffa5d7-864b-4353-a88c-962e7e30fc38"
      },
      "execution_count": null,
      "outputs": [
        {
          "output_type": "stream",
          "name": "stdout",
          "text": [
            "\u001b[K\u001b[?25h\u001b[37;40mnpm\u001b[0m \u001b[0m\u001b[30;43mWARN\u001b[0m \u001b[0m\u001b[35msaveError\u001b[0m ENOENT: no such file or directory, open '/content/package.json'\n",
            "\u001b[0m\u001b[37;40mnpm\u001b[0m \u001b[0m\u001b[34;40mnotice\u001b[0m\u001b[35m\u001b[0m created a lockfile as package-lock.json. You should commit this file.\n",
            "\u001b[0m\u001b[37;40mnpm\u001b[0m \u001b[0m\u001b[30;43mWARN\u001b[0m \u001b[0m\u001b[35menoent\u001b[0m ENOENT: no such file or directory, open '/content/package.json'\n",
            "\u001b[0m\u001b[37;40mnpm\u001b[0m \u001b[0m\u001b[30;43mWARN\u001b[0m\u001b[35m\u001b[0m content No description\n",
            "\u001b[0m\u001b[37;40mnpm\u001b[0m \u001b[0m\u001b[30;43mWARN\u001b[0m\u001b[35m\u001b[0m content No repository field.\n",
            "\u001b[0m\u001b[37;40mnpm\u001b[0m \u001b[0m\u001b[30;43mWARN\u001b[0m\u001b[35m\u001b[0m content No README data\n",
            "\u001b[0m\u001b[37;40mnpm\u001b[0m \u001b[0m\u001b[30;43mWARN\u001b[0m\u001b[35m\u001b[0m content No license field.\n",
            "\u001b[0m\n",
            "+ localtunnel@2.0.2\n",
            "added 22 packages from 22 contributors and audited 22 packages in 2.045s\n",
            "\n",
            "3 packages are looking for funding\n",
            "  run `npm fund` for details\n",
            "\n",
            "found 1 \u001b[93mmoderate\u001b[0m severity vulnerability\n",
            "  run `npm audit fix` to fix them, or `npm audit` for details\n",
            "\u001b[K\u001b[?25h"
          ]
        }
      ]
    },
    {
      "cell_type": "code",
      "source": [
        "!streamlit run main.py &>/content/logs.txt &"
      ],
      "metadata": {
        "id": "13mPHVFmJzXy"
      },
      "execution_count": null,
      "outputs": []
    },
    {
      "cell_type": "code",
      "source": [
        "!wget -q -O - https://loca.lt/mytunnelpassword"
      ],
      "metadata": {
        "id": "JcBzSQ2mKI5X",
        "colab": {
          "base_uri": "https://localhost:8080/"
        },
        "outputId": "79c19ff9-662c-461a-cb85-72393495810e"
      },
      "execution_count": null,
      "outputs": [
        {
          "output_type": "stream",
          "name": "stdout",
          "text": [
            "34.90.40.131"
          ]
        }
      ]
    },
    {
      "cell_type": "code",
      "source": [
        "!streamlit run main.py & npx localtunnel --port 8501"
      ],
      "metadata": {
        "id": "uqSMZXb7I2kL",
        "colab": {
          "base_uri": "https://localhost:8080/"
        },
        "outputId": "a8847606-2042-4be9-d84f-830dc2bdfd30"
      },
      "execution_count": 30,
      "outputs": [
        {
          "output_type": "stream",
          "name": "stdout",
          "text": [
            "\n",
            "Collecting usage statistics. To deactivate, set browser.gatherUsageStats to false.\n",
            "\u001b[0m\n",
            "\u001b[0m\n",
            "\u001b[34m\u001b[1m  You can now view your Streamlit app in your browser.\u001b[0m\n",
            "\u001b[0m\n",
            "\u001b[34m  Local URL: \u001b[0m\u001b[1mhttp://localhost:8501\u001b[0m\n",
            "\u001b[34m  Network URL: \u001b[0m\u001b[1mhttp://172.28.0.12:8501\u001b[0m\n",
            "\u001b[34m  External URL: \u001b[0m\u001b[1mhttp://34.90.40.131:8501\u001b[0m\n",
            "\u001b[0m\n",
            "\u001b[K\u001b[?25hnpx: installed 22 in 2.074s\n",
            "your url is: https://two-monkeys-stop.loca.lt\n",
            "  Payment Method  Count\n",
            "0    Credit Card    120\n",
            "1         PayPal     80\n",
            "2     Debit Card     40\n",
            "\u001b[34m  Stopping...\u001b[0m\n",
            "^C\n"
          ]
        }
      ]
    }
  ]
}